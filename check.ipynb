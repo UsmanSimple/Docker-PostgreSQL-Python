{
 "cells": [
  {
   "cell_type": "code",
   "execution_count": 1,
   "metadata": {},
   "outputs": [],
   "source": [
    "import numpy as np\n",
    "from csv_to_database import *"
   ]
  },
  {
   "cell_type": "code",
   "execution_count": 6,
   "metadata": {},
   "outputs": [],
   "source": [
    "data = {}\n",
    "# csv folder must be in the parent directory where the code is situated\n",
    "\n",
    "csv_folder = 'csv_folder'\n",
    "datetime = ['inserted_at', 'updated_at']\n",
    "csv_link = os.getcwd() + '\\\\'+ csv_folder\n",
    "csv_files = os.listdir(csv_link)\n",
    "file_different_path = True\n",
    "\n",
    "for file in csv_files:\n",
    "    table_name, df = clean_table_and_col_names(file, datetime,\n",
    "                               link = csv_link, file_different_path = True)\n",
    "    data[table_name] = df\n",
    "    \n",
    "    \n"
   ]
  },
  {
   "cell_type": "code",
   "execution_count": 7,
   "metadata": {},
   "outputs": [
    {
     "data": {
      "text/plain": [
       "dict_keys(['deposits', 'trades'])"
      ]
     },
     "execution_count": 7,
     "metadata": {},
     "output_type": "execute_result"
    }
   ],
   "source": [
    "data.keys()"
   ]
  },
  {
   "cell_type": "code",
   "execution_count": 8,
   "metadata": {},
   "outputs": [
    {
     "data": {
      "text/html": [
       "<div>\n",
       "<style scoped>\n",
       "    .dataframe tbody tr th:only-of-type {\n",
       "        vertical-align: middle;\n",
       "    }\n",
       "\n",
       "    .dataframe tbody tr th {\n",
       "        vertical-align: top;\n",
       "    }\n",
       "\n",
       "    .dataframe thead th {\n",
       "        text-align: right;\n",
       "    }\n",
       "</style>\n",
       "<table border=\"1\" class=\"dataframe\">\n",
       "  <thead>\n",
       "    <tr style=\"text-align: right;\">\n",
       "      <th></th>\n",
       "      <th>id</th>\n",
       "      <th>amount</th>\n",
       "      <th>status</th>\n",
       "      <th>user_id</th>\n",
       "      <th>payment_method_id</th>\n",
       "      <th>inserted_at</th>\n",
       "      <th>updated_at</th>\n",
       "      <th>amount_paid</th>\n",
       "      <th>fee</th>\n",
       "      <th>exchange_rate</th>\n",
       "      <th>deposit_type</th>\n",
       "      <th>dollar_instant_deposit_fee</th>\n",
       "      <th>dollar_processing_fee</th>\n",
       "      <th>currency</th>\n",
       "    </tr>\n",
       "  </thead>\n",
       "  <tbody>\n",
       "    <tr>\n",
       "      <th>0</th>\n",
       "      <td>255917</td>\n",
       "      <td>20.0</td>\n",
       "      <td>Deleted</td>\n",
       "      <td>170</td>\n",
       "      <td>7</td>\n",
       "      <td>2021-05-11 00:18:19+00:00</td>\n",
       "      <td>2021-05-11 00:19:25+00:00</td>\n",
       "      <td>10070.00</td>\n",
       "      <td>0.31</td>\n",
       "      <td>$1/₦496.0</td>\n",
       "      <td>standard</td>\n",
       "      <td>0.0</td>\n",
       "      <td>0.31</td>\n",
       "      <td>NGN</td>\n",
       "    </tr>\n",
       "    <tr>\n",
       "      <th>1</th>\n",
       "      <td>255918</td>\n",
       "      <td>20.0</td>\n",
       "      <td>Deleted</td>\n",
       "      <td>155744</td>\n",
       "      <td>2</td>\n",
       "      <td>2021-05-11 00:42:27+00:00</td>\n",
       "      <td>2021-05-11 00:44:00+00:00</td>\n",
       "      <td>10058.88</td>\n",
       "      <td>0.28</td>\n",
       "      <td>$1/₦496.0</td>\n",
       "      <td>standard</td>\n",
       "      <td>0.0</td>\n",
       "      <td>0.28</td>\n",
       "      <td>NGN</td>\n",
       "    </tr>\n",
       "    <tr>\n",
       "      <th>2</th>\n",
       "      <td>255919</td>\n",
       "      <td>300.0</td>\n",
       "      <td>Deleted</td>\n",
       "      <td>161117</td>\n",
       "      <td>7</td>\n",
       "      <td>2021-05-11 00:44:18+00:00</td>\n",
       "      <td>2021-05-11 00:44:25+00:00</td>\n",
       "      <td>148950.00</td>\n",
       "      <td>0.31</td>\n",
       "      <td>$1/₦496.0</td>\n",
       "      <td>standard</td>\n",
       "      <td>0.0</td>\n",
       "      <td>0.31</td>\n",
       "      <td>NGN</td>\n",
       "    </tr>\n",
       "    <tr>\n",
       "      <th>3</th>\n",
       "      <td>255920</td>\n",
       "      <td>40.4</td>\n",
       "      <td>Deleted</td>\n",
       "      <td>125945</td>\n",
       "      <td>7</td>\n",
       "      <td>2021-05-11 00:47:42+00:00</td>\n",
       "      <td>2021-05-11 00:49:25+00:00</td>\n",
       "      <td>20188.40</td>\n",
       "      <td>0.31</td>\n",
       "      <td>$1/₦496.0</td>\n",
       "      <td>standard</td>\n",
       "      <td>0.0</td>\n",
       "      <td>0.31</td>\n",
       "      <td>NGN</td>\n",
       "    </tr>\n",
       "    <tr>\n",
       "      <th>4</th>\n",
       "      <td>255921</td>\n",
       "      <td>40.4</td>\n",
       "      <td>Settlemented</td>\n",
       "      <td>125945</td>\n",
       "      <td>7</td>\n",
       "      <td>2021-05-11 00:48:19+00:00</td>\n",
       "      <td>2021-05-12 13:14:23+00:00</td>\n",
       "      <td>20188.40</td>\n",
       "      <td>0.31</td>\n",
       "      <td>$1/₦496.0</td>\n",
       "      <td>standard</td>\n",
       "      <td>0.0</td>\n",
       "      <td>0.31</td>\n",
       "      <td>NGN</td>\n",
       "    </tr>\n",
       "  </tbody>\n",
       "</table>\n",
       "</div>"
      ],
      "text/plain": [
       "       id  amount        status  user_id  payment_method_id  \\\n",
       "0  255917    20.0       Deleted      170                  7   \n",
       "1  255918    20.0       Deleted   155744                  2   \n",
       "2  255919   300.0       Deleted   161117                  7   \n",
       "3  255920    40.4       Deleted   125945                  7   \n",
       "4  255921    40.4  Settlemented   125945                  7   \n",
       "\n",
       "                inserted_at                updated_at  amount_paid   fee  \\\n",
       "0 2021-05-11 00:18:19+00:00 2021-05-11 00:19:25+00:00     10070.00  0.31   \n",
       "1 2021-05-11 00:42:27+00:00 2021-05-11 00:44:00+00:00     10058.88  0.28   \n",
       "2 2021-05-11 00:44:18+00:00 2021-05-11 00:44:25+00:00    148950.00  0.31   \n",
       "3 2021-05-11 00:47:42+00:00 2021-05-11 00:49:25+00:00     20188.40  0.31   \n",
       "4 2021-05-11 00:48:19+00:00 2021-05-12 13:14:23+00:00     20188.40  0.31   \n",
       "\n",
       "  exchange_rate deposit_type  dollar_instant_deposit_fee  \\\n",
       "0     $1/₦496.0     standard                         0.0   \n",
       "1     $1/₦496.0     standard                         0.0   \n",
       "2     $1/₦496.0     standard                         0.0   \n",
       "3     $1/₦496.0     standard                         0.0   \n",
       "4     $1/₦496.0     standard                         0.0   \n",
       "\n",
       "   dollar_processing_fee currency  \n",
       "0                   0.31      NGN  \n",
       "1                   0.28      NGN  \n",
       "2                   0.31      NGN  \n",
       "3                   0.31      NGN  \n",
       "4                   0.31      NGN  "
      ]
     },
     "execution_count": 8,
     "metadata": {},
     "output_type": "execute_result"
    }
   ],
   "source": [
    "new_df = data['deposits']\n",
    "\n",
    "new_df.head()\n",
    "    "
   ]
  },
  {
   "cell_type": "code",
   "execution_count": 9,
   "metadata": {},
   "outputs": [
    {
     "name": "stdout",
     "output_type": "stream",
     "text": [
      "<class 'pandas.core.frame.DataFrame'>\n",
      "RangeIndex: 1000 entries, 0 to 999\n",
      "Data columns (total 14 columns):\n",
      " #   Column                      Non-Null Count  Dtype              \n",
      "---  ------                      --------------  -----              \n",
      " 0   id                          1000 non-null   int64              \n",
      " 1   amount                      1000 non-null   float64            \n",
      " 2   status                      1000 non-null   object             \n",
      " 3   user_id                     1000 non-null   int64              \n",
      " 4   payment_method_id           1000 non-null   int64              \n",
      " 5   inserted_at                 1000 non-null   datetime64[ns, UTC]\n",
      " 6   updated_at                  1000 non-null   datetime64[ns, UTC]\n",
      " 7   amount_paid                 1000 non-null   float64            \n",
      " 8   fee                         1000 non-null   float64            \n",
      " 9   exchange_rate               834 non-null    object             \n",
      " 10  deposit_type                1000 non-null   object             \n",
      " 11  dollar_instant_deposit_fee  1000 non-null   float64            \n",
      " 12  dollar_processing_fee       1000 non-null   float64            \n",
      " 13  currency                    855 non-null    object             \n",
      "dtypes: datetime64[ns, UTC](2), float64(5), int64(3), object(4)\n",
      "memory usage: 109.5+ KB\n"
     ]
    }
   ],
   "source": [
    "new_df.info()"
   ]
  },
  {
   "cell_type": "code",
   "execution_count": 11,
   "metadata": {},
   "outputs": [
    {
     "data": {
      "text/plain": [
       "id                                          int64\n",
       "amount                                    float64\n",
       "status                                     object\n",
       "user_id                                     int64\n",
       "payment_method_id                           int64\n",
       "inserted_at                   datetime64[ns, UTC]\n",
       "updated_at                    datetime64[ns, UTC]\n",
       "amount_paid                               float64\n",
       "fee                                       float64\n",
       "exchange_rate                              object\n",
       "deposit_type                               object\n",
       "dollar_instant_deposit_fee                float64\n",
       "dollar_processing_fee                     float64\n",
       "currency                                   object\n",
       "dtype: object"
      ]
     },
     "execution_count": 11,
     "metadata": {},
     "output_type": "execute_result"
    }
   ],
   "source": [
    "new_df.dtypes"
   ]
  },
  {
   "cell_type": "code",
   "execution_count": null,
   "metadata": {},
   "outputs": [],
   "source": []
  }
 ],
 "metadata": {
  "kernelspec": {
   "display_name": "Python 3.9.0 ('postgres_venv': venv)",
   "language": "python",
   "name": "python3"
  },
  "language_info": {
   "codemirror_mode": {
    "name": "ipython",
    "version": 3
   },
   "file_extension": ".py",
   "mimetype": "text/x-python",
   "name": "python",
   "nbconvert_exporter": "python",
   "pygments_lexer": "ipython3",
   "version": "3.9.0"
  },
  "orig_nbformat": 4,
  "vscode": {
   "interpreter": {
    "hash": "1b8b4f16e0a39491a4e3e19b7aabecc329e1d10b13fe91823c512d246bf0f74c"
   }
  }
 },
 "nbformat": 4,
 "nbformat_minor": 2
}
